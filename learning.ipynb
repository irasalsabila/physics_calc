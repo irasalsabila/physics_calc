{
 "cells": [
  {
   "cell_type": "markdown",
   "metadata": {},
   "source": [
    "### Task: **Implement average_speed Function**\n",
    "\n",
    "**Objective**\n",
    "Create a function average_speed that calculates the average speed, distance, or time based on the provided inputs.\n",
    "\n",
    "**Formula**\n",
    "The average speed formula is: \n",
    "S = d / t\n",
    "​\t\n",
    "Where:\n",
    "\n",
    "S: Average speed in meters per second (m/s)\n",
    "d: Distance in meters (m)\n",
    "t: Time in seconds (s)\n",
    "\n",
    "**Requirements**\n",
    "\n",
    "**Inputs**: The function should accept three optional parameters: S (average speed), d (distance), and t (time).\n",
    "\n",
    "**Calculation Logic**:\n",
    "-  If S and t are provided, calculate d (distance).\n",
    "- If d and t are provided, calculate S (average speed).\n",
    "- If S and d are provided, calculate t (time).\n",
    "\n",
    "**Error Handling**: If less than two values are provided, raise an error requesting at least two inputs."
   ]
  },
  {
   "cell_type": "code",
   "execution_count": 34,
   "metadata": {},
   "outputs": [],
   "source": [
    "def average_speed(S=None, d=None, t=None):\n",
    "    \"\"\"\n",
    "    Calculate average speed, distance, or time based on the provided inputs.\n",
    "\n",
    "    Parameters:\n",
    "    - S (float, optional): Average speed in m/s. Set to None if unknown.\n",
    "    - d (float, optional): Distance in meters. Set to None if unknown.\n",
    "    - t (float, optional): Time in seconds. Set to None if unknown.\n",
    "\n",
    "    Returns:\n",
    "    - float: The calculated value for the missing parameter.\n",
    "    \n",
    "    Raises:\n",
    "    - ValueError: If fewer than two values are provided or if the calculation is not possible.\n",
    "    \"\"\"\n",
    "    \n",
    "    # Step 1: Check if there are enough known values (at least two).\n",
    "    # If fewer than two values are provided, raise a ValueError.\n",
    "    if sum(value is not None for value in [S, d, t]) < 2:\n",
    "        raise ValueError(\"XXX\") # <= Fill the value error\n",
    "\n",
    "    # Step 2: Calculate distance (d) if average speed (S) and time (t) are given.\n",
    "    if S is not None and t is not None:\n",
    "        # Add code here to calculate distance\n",
    "        #\n",
    "        return d\n",
    "\n",
    "    # Step 3: Calculate average speed (S) if distance (d) and time (t) are given.\n",
    "    elif d is not None and t is not None:\n",
    "        # Add code here to calculate average speed\n",
    "        #\n",
    "        return S\n",
    "\n",
    "    # Step 4: Calculate time (t) if distance (d) and average speed (S) are given.\n",
    "    elif S is not None and d is not None:\n",
    "        # Add code here to calculate time\n",
    "        #\n",
    "        return t\n",
    "\n",
    "    # Step 5: If none of the conditions match, raise an error (this should be unreachable).\n",
    "    else:\n",
    "        raise ValueError(\"Unexpected error: Please provide valid inputs.\")"
   ]
  },
  {
   "cell_type": "code",
   "execution_count": 35,
   "metadata": {},
   "outputs": [
    {
     "name": "stdout",
     "output_type": "stream",
     "text": [
      "Distance: None\n",
      "Speed: None\n",
      "Time: None\n"
     ]
    }
   ],
   "source": [
    "# Example 1: Calculate distance (d) when speed (S) and time (t) are provided\n",
    "distance = average_speed(S=30, t=2)  # Expected output: 60\n",
    "print(\"Distance:\", distance)\n",
    "\n",
    "# Example 2: Calculate speed (S) when distance (d) and time (t) are provided\n",
    "speed = average_speed(d=60, t=2)  # Expected output: 30\n",
    "print(\"Speed:\", speed)\n",
    "\n",
    "# Example 3: Calculate time (t) when speed (S) and distance (d) are provided\n",
    "time = average_speed(S=30, d=60)  # Expected output: 2\n",
    "print(\"Time:\", time)"
   ]
  },
  {
   "cell_type": "code",
   "execution_count": null,
   "metadata": {},
   "outputs": [],
   "source": []
  }
 ],
 "metadata": {
  "kernelspec": {
   "display_name": "Python 3",
   "language": "python",
   "name": "python3"
  },
  "language_info": {
   "codemirror_mode": {
    "name": "ipython",
    "version": 3
   },
   "file_extension": ".py",
   "mimetype": "text/x-python",
   "name": "python",
   "nbconvert_exporter": "python",
   "pygments_lexer": "ipython3",
   "version": "3.9.6"
  }
 },
 "nbformat": 4,
 "nbformat_minor": 2
}
